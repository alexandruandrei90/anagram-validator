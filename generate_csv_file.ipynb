{
 "cells": [
  {
   "cell_type": "code",
   "execution_count": 16,
   "metadata": {
    "ExecuteTime": {
     "end_time": "2021-07-29T12:24:04.218349Z",
     "start_time": "2021-07-29T12:24:04.212493Z"
    }
   },
   "outputs": [],
   "source": [
    "import sys\n",
    "import pandas as pd\n",
    "import logging"
   ]
  },
  {
   "cell_type": "code",
   "execution_count": 17,
   "metadata": {
    "ExecuteTime": {
     "end_time": "2021-07-29T12:24:05.690102Z",
     "start_time": "2021-07-29T12:24:05.684410Z"
    }
   },
   "outputs": [],
   "source": [
    "# set up logging\n",
    "logging.basicConfig()\n",
    "logger = logging.getLogger()\n",
    "logger.setLevel(logging.INFO)"
   ]
  },
  {
   "cell_type": "markdown",
   "metadata": {
    "ExecuteTime": {
     "end_time": "2021-07-27T09:22:03.012114Z",
     "start_time": "2021-07-27T09:22:02.612245Z"
    }
   },
   "source": [
    "# Create an anagram test list\n",
    "\n",
    "The following steps will generate a file `anagram.csv` with two columns, with each row containing a pair of strings to be checked in AWS Lambda. The file structure is:\n",
    "\n",
    "|  | word_1 | word_2 |\n",
    "| --- | --- | --- |\n",
    "| 0 | acer | acre |\n",
    "\n",
    "\n",
    "Steps:\n",
    "1. parse HTML from a [website](http://itools.subhashbose.com/wordfind/common-anagrams/) showing a list of words; each word has at least one anagram\n",
    "3. create a data frame with two columns of random words from the data parsed above\n",
    "4. store the data frame as a csv\n",
    "\n"
   ]
  },
  {
   "cell_type": "code",
   "execution_count": 18,
   "metadata": {
    "ExecuteTime": {
     "end_time": "2021-07-29T12:24:25.461729Z",
     "start_time": "2021-07-29T12:24:24.715159Z"
    },
    "scrolled": true
   },
   "outputs": [
    {
     "name": "stderr",
     "output_type": "stream",
     "text": [
      "INFO:root:Fetched word list\n"
     ]
    }
   ],
   "source": [
    "# Step 1: parse HTML data\n",
    "# contains a list of dataframes with parsed data; need to check which one contains the word table\n",
    "anagram_list = pd.read_html(\"http://itools.subhashbose.com/wordfind/common-anagrams/\")\n",
    "\n",
    "logger.info('Fetched word list')"
   ]
  },
  {
   "cell_type": "code",
   "execution_count": 19,
   "metadata": {
    "ExecuteTime": {
     "end_time": "2021-07-29T12:24:46.252351Z",
     "start_time": "2021-07-29T12:24:46.231994Z"
    }
   },
   "outputs": [
    {
     "data": {
      "text/plain": [
       "[                                                   0\n",
       " 0  create_bm(); WordFind (adsbygoogle = window.ad...,\n",
       "            0       1        2        3       4         5         6\n",
       " 0       acer   acers     aces    aches    acme     acned      acre\n",
       " 1      acres     act     acts     acyl     add      adds    adverb\n",
       " 2       aesc  aether  aethers   afield     aft     agree    agrees\n",
       " 3        ags      ah      ahs     aide   aides   airings    airmen\n",
       " 4      alloy   almes      alp     alps  altern  altrices      alts\n",
       " ..       ...     ...      ...      ...     ...       ...       ...\n",
       " 215     wets    what     when  whereat     who    whores      wigs\n",
       " 216    wings   wipes     wolf   wolves     won      wons   wordier\n",
       " 217  worried     wot     wrap    wraps   wrast   wreathe  wreathes\n",
       " 218      yah   yaird      yap      yaw     yea     zendo     zoned\n",
       " 219      NaN     NaN      NaN      NaN     NaN       NaN       NaN\n",
       " \n",
       " [220 rows x 7 columns]]"
      ]
     },
     "execution_count": 19,
     "metadata": {},
     "output_type": "execute_result"
    }
   ],
   "source": [
    "anagram_list"
   ]
  },
  {
   "cell_type": "code",
   "execution_count": 20,
   "metadata": {
    "ExecuteTime": {
     "end_time": "2021-07-29T12:24:46.504300Z",
     "start_time": "2021-07-29T12:24:46.496550Z"
    }
   },
   "outputs": [
    {
     "data": {
      "text/plain": [
       "2"
      ]
     },
     "execution_count": 20,
     "metadata": {},
     "output_type": "execute_result"
    }
   ],
   "source": [
    "# output contains two lists, the data seems to be stored in the second list\n",
    "len(anagram_list)"
   ]
  },
  {
   "cell_type": "code",
   "execution_count": 21,
   "metadata": {
    "ExecuteTime": {
     "end_time": "2021-07-29T12:24:46.832510Z",
     "start_time": "2021-07-29T12:24:46.789603Z"
    }
   },
   "outputs": [
    {
     "data": {
      "text/html": [
       "<div>\n",
       "<style scoped>\n",
       "    .dataframe tbody tr th:only-of-type {\n",
       "        vertical-align: middle;\n",
       "    }\n",
       "\n",
       "    .dataframe tbody tr th {\n",
       "        vertical-align: top;\n",
       "    }\n",
       "\n",
       "    .dataframe thead th {\n",
       "        text-align: right;\n",
       "    }\n",
       "</style>\n",
       "<table border=\"1\" class=\"dataframe\">\n",
       "  <thead>\n",
       "    <tr style=\"text-align: right;\">\n",
       "      <th></th>\n",
       "      <th>0</th>\n",
       "      <th>1</th>\n",
       "      <th>2</th>\n",
       "      <th>3</th>\n",
       "      <th>4</th>\n",
       "      <th>5</th>\n",
       "      <th>6</th>\n",
       "    </tr>\n",
       "  </thead>\n",
       "  <tbody>\n",
       "    <tr>\n",
       "      <th>0</th>\n",
       "      <td>acer</td>\n",
       "      <td>acers</td>\n",
       "      <td>aces</td>\n",
       "      <td>aches</td>\n",
       "      <td>acme</td>\n",
       "      <td>acned</td>\n",
       "      <td>acre</td>\n",
       "    </tr>\n",
       "    <tr>\n",
       "      <th>1</th>\n",
       "      <td>acres</td>\n",
       "      <td>act</td>\n",
       "      <td>acts</td>\n",
       "      <td>acyl</td>\n",
       "      <td>add</td>\n",
       "      <td>adds</td>\n",
       "      <td>adverb</td>\n",
       "    </tr>\n",
       "    <tr>\n",
       "      <th>2</th>\n",
       "      <td>aesc</td>\n",
       "      <td>aether</td>\n",
       "      <td>aethers</td>\n",
       "      <td>afield</td>\n",
       "      <td>aft</td>\n",
       "      <td>agree</td>\n",
       "      <td>agrees</td>\n",
       "    </tr>\n",
       "    <tr>\n",
       "      <th>3</th>\n",
       "      <td>ags</td>\n",
       "      <td>ah</td>\n",
       "      <td>ahs</td>\n",
       "      <td>aide</td>\n",
       "      <td>aides</td>\n",
       "      <td>airings</td>\n",
       "      <td>airmen</td>\n",
       "    </tr>\n",
       "    <tr>\n",
       "      <th>4</th>\n",
       "      <td>alloy</td>\n",
       "      <td>almes</td>\n",
       "      <td>alp</td>\n",
       "      <td>alps</td>\n",
       "      <td>altern</td>\n",
       "      <td>altrices</td>\n",
       "      <td>alts</td>\n",
       "    </tr>\n",
       "    <tr>\n",
       "      <th>...</th>\n",
       "      <td>...</td>\n",
       "      <td>...</td>\n",
       "      <td>...</td>\n",
       "      <td>...</td>\n",
       "      <td>...</td>\n",
       "      <td>...</td>\n",
       "      <td>...</td>\n",
       "    </tr>\n",
       "    <tr>\n",
       "      <th>215</th>\n",
       "      <td>wets</td>\n",
       "      <td>what</td>\n",
       "      <td>when</td>\n",
       "      <td>whereat</td>\n",
       "      <td>who</td>\n",
       "      <td>whores</td>\n",
       "      <td>wigs</td>\n",
       "    </tr>\n",
       "    <tr>\n",
       "      <th>216</th>\n",
       "      <td>wings</td>\n",
       "      <td>wipes</td>\n",
       "      <td>wolf</td>\n",
       "      <td>wolves</td>\n",
       "      <td>won</td>\n",
       "      <td>wons</td>\n",
       "      <td>wordier</td>\n",
       "    </tr>\n",
       "    <tr>\n",
       "      <th>217</th>\n",
       "      <td>worried</td>\n",
       "      <td>wot</td>\n",
       "      <td>wrap</td>\n",
       "      <td>wraps</td>\n",
       "      <td>wrast</td>\n",
       "      <td>wreathe</td>\n",
       "      <td>wreathes</td>\n",
       "    </tr>\n",
       "    <tr>\n",
       "      <th>218</th>\n",
       "      <td>yah</td>\n",
       "      <td>yaird</td>\n",
       "      <td>yap</td>\n",
       "      <td>yaw</td>\n",
       "      <td>yea</td>\n",
       "      <td>zendo</td>\n",
       "      <td>zoned</td>\n",
       "    </tr>\n",
       "    <tr>\n",
       "      <th>219</th>\n",
       "      <td>NaN</td>\n",
       "      <td>NaN</td>\n",
       "      <td>NaN</td>\n",
       "      <td>NaN</td>\n",
       "      <td>NaN</td>\n",
       "      <td>NaN</td>\n",
       "      <td>NaN</td>\n",
       "    </tr>\n",
       "  </tbody>\n",
       "</table>\n",
       "<p>220 rows × 7 columns</p>\n",
       "</div>"
      ],
      "text/plain": [
       "           0       1        2        3       4         5         6\n",
       "0       acer   acers     aces    aches    acme     acned      acre\n",
       "1      acres     act     acts     acyl     add      adds    adverb\n",
       "2       aesc  aether  aethers   afield     aft     agree    agrees\n",
       "3        ags      ah      ahs     aide   aides   airings    airmen\n",
       "4      alloy   almes      alp     alps  altern  altrices      alts\n",
       "..       ...     ...      ...      ...     ...       ...       ...\n",
       "215     wets    what     when  whereat     who    whores      wigs\n",
       "216    wings   wipes     wolf   wolves     won      wons   wordier\n",
       "217  worried     wot     wrap    wraps   wrast   wreathe  wreathes\n",
       "218      yah   yaird      yap      yaw     yea     zendo     zoned\n",
       "219      NaN     NaN      NaN      NaN     NaN       NaN       NaN\n",
       "\n",
       "[220 rows x 7 columns]"
      ]
     },
     "execution_count": 21,
     "metadata": {},
     "output_type": "execute_result"
    }
   ],
   "source": [
    "anagram_list[1]"
   ]
  },
  {
   "cell_type": "code",
   "execution_count": 22,
   "metadata": {
    "ExecuteTime": {
     "end_time": "2021-07-29T12:24:47.020418Z",
     "start_time": "2021-07-29T12:24:47.014553Z"
    }
   },
   "outputs": [],
   "source": [
    "anagram_df = anagram_list[1]"
   ]
  },
  {
   "cell_type": "code",
   "execution_count": 23,
   "metadata": {
    "ExecuteTime": {
     "end_time": "2021-07-29T12:24:47.353305Z",
     "start_time": "2021-07-29T12:24:47.323846Z"
    }
   },
   "outputs": [
    {
     "data": {
      "text/plain": [
       "0          acer\n",
       "1         acres\n",
       "2          aesc\n",
       "3           ags\n",
       "4         alloy\n",
       "         ...   \n",
       "214       wetas\n",
       "215        wigs\n",
       "216     wordier\n",
       "217    wreathes\n",
       "218       zoned\n",
       "Length: 1533, dtype: object"
      ]
     },
     "execution_count": 23,
     "metadata": {},
     "output_type": "execute_result"
    }
   ],
   "source": [
    "# Step 2: Restructure table into a two-column format which will give us pairs of strings\n",
    "# a) concat all columns into one series and remove null values\n",
    "words = pd.concat([anagram_df[col] for col in anagram_df.columns])\n",
    "words = words.dropna()\n",
    "\n",
    "words"
   ]
  },
  {
   "cell_type": "code",
   "execution_count": 24,
   "metadata": {
    "ExecuteTime": {
     "end_time": "2021-07-29T12:24:47.707255Z",
     "start_time": "2021-07-29T12:24:47.690913Z"
    }
   },
   "outputs": [],
   "source": [
    "# b) create df containing string pairs\n",
    "string_pair_df = pd.DataFrame({\"word_1\": words.sample(500).values,\n",
    "                               \"word_2\": words.sample(500).values})"
   ]
  },
  {
   "cell_type": "code",
   "execution_count": 25,
   "metadata": {
    "ExecuteTime": {
     "end_time": "2021-07-29T12:24:48.162570Z",
     "start_time": "2021-07-29T12:24:48.129108Z"
    }
   },
   "outputs": [
    {
     "data": {
      "text/html": [
       "<div>\n",
       "<style scoped>\n",
       "    .dataframe tbody tr th:only-of-type {\n",
       "        vertical-align: middle;\n",
       "    }\n",
       "\n",
       "    .dataframe tbody tr th {\n",
       "        vertical-align: top;\n",
       "    }\n",
       "\n",
       "    .dataframe thead th {\n",
       "        text-align: right;\n",
       "    }\n",
       "</style>\n",
       "<table border=\"1\" class=\"dataframe\">\n",
       "  <thead>\n",
       "    <tr style=\"text-align: right;\">\n",
       "      <th></th>\n",
       "      <th>word_1</th>\n",
       "      <th>word_2</th>\n",
       "    </tr>\n",
       "  </thead>\n",
       "  <tbody>\n",
       "    <tr>\n",
       "      <th>0</th>\n",
       "      <td>slivers</td>\n",
       "      <td>kin</td>\n",
       "    </tr>\n",
       "    <tr>\n",
       "      <th>1</th>\n",
       "      <td>skied</td>\n",
       "      <td>net</td>\n",
       "    </tr>\n",
       "    <tr>\n",
       "      <th>2</th>\n",
       "      <td>adds</td>\n",
       "      <td>posts</td>\n",
       "    </tr>\n",
       "    <tr>\n",
       "      <th>3</th>\n",
       "      <td>aft</td>\n",
       "      <td>chin</td>\n",
       "    </tr>\n",
       "    <tr>\n",
       "      <th>4</th>\n",
       "      <td>tampons</td>\n",
       "      <td>reest</td>\n",
       "    </tr>\n",
       "    <tr>\n",
       "      <th>...</th>\n",
       "      <td>...</td>\n",
       "      <td>...</td>\n",
       "    </tr>\n",
       "    <tr>\n",
       "      <th>495</th>\n",
       "      <td>pets</td>\n",
       "      <td>tosh</td>\n",
       "    </tr>\n",
       "    <tr>\n",
       "      <th>496</th>\n",
       "      <td>filler</td>\n",
       "      <td>staple</td>\n",
       "    </tr>\n",
       "    <tr>\n",
       "      <th>497</th>\n",
       "      <td>dearths</td>\n",
       "      <td>tough</td>\n",
       "    </tr>\n",
       "    <tr>\n",
       "      <th>498</th>\n",
       "      <td>thae</td>\n",
       "      <td>ugh</td>\n",
       "    </tr>\n",
       "    <tr>\n",
       "      <th>499</th>\n",
       "      <td>itself</td>\n",
       "      <td>mast</td>\n",
       "    </tr>\n",
       "  </tbody>\n",
       "</table>\n",
       "<p>500 rows × 2 columns</p>\n",
       "</div>"
      ],
      "text/plain": [
       "      word_1  word_2\n",
       "0    slivers     kin\n",
       "1      skied     net\n",
       "2       adds   posts\n",
       "3        aft    chin\n",
       "4    tampons   reest\n",
       "..       ...     ...\n",
       "495     pets    tosh\n",
       "496   filler  staple\n",
       "497  dearths   tough\n",
       "498     thae     ugh\n",
       "499   itself    mast\n",
       "\n",
       "[500 rows x 2 columns]"
      ]
     },
     "execution_count": 25,
     "metadata": {},
     "output_type": "execute_result"
    }
   ],
   "source": [
    "string_pair_df"
   ]
  },
  {
   "cell_type": "code",
   "execution_count": 26,
   "metadata": {
    "ExecuteTime": {
     "end_time": "2021-07-29T12:24:48.790596Z",
     "start_time": "2021-07-29T12:24:48.781319Z"
    }
   },
   "outputs": [],
   "source": [
    "# Step 3: serialize data\n",
    "string_pair_df.to_csv('./anagrams.csv')"
   ]
  },
  {
   "cell_type": "markdown",
   "metadata": {},
   "source": [
    "# Check anagram function"
   ]
  },
  {
   "cell_type": "code",
   "execution_count": 27,
   "metadata": {
    "ExecuteTime": {
     "end_time": "2021-07-29T12:24:51.083688Z",
     "start_time": "2021-07-29T12:24:51.073964Z"
    }
   },
   "outputs": [],
   "source": [
    "def is_anagram(word_1:str, word_2:str) -> bool:\n",
    "    try:\n",
    "        word_1 = word_1.lower()\n",
    "        word_2 = word_2.lower()\n",
    "    except Exception as e:\n",
    "        logger.error(f\"Error happened: {e}\")\n",
    "        sys.exit()\n",
    "    \n",
    "    anagram_test = sorted(word_1) == sorted(word_2)\n",
    "    \n",
    "    return anagram_test"
   ]
  },
  {
   "cell_type": "code",
   "execution_count": 28,
   "metadata": {
    "ExecuteTime": {
     "end_time": "2021-07-29T12:24:51.491073Z",
     "start_time": "2021-07-29T12:24:51.459564Z"
    }
   },
   "outputs": [
    {
     "data": {
      "text/plain": [
       "False    499\n",
       "True       1\n",
       "dtype: int64"
      ]
     },
     "execution_count": 28,
     "metadata": {},
     "output_type": "execute_result"
    }
   ],
   "source": [
    "# check\n",
    "string_pair_df.apply(lambda x:is_anagram(x.word_1, x.word_2), axis=1).value_counts()"
   ]
  },
  {
   "cell_type": "code",
   "execution_count": 29,
   "metadata": {
    "ExecuteTime": {
     "end_time": "2021-07-29T12:24:52.170081Z",
     "start_time": "2021-07-29T12:24:52.138528Z"
    }
   },
   "outputs": [
    {
     "data": {
      "text/html": [
       "<div>\n",
       "<style scoped>\n",
       "    .dataframe tbody tr th:only-of-type {\n",
       "        vertical-align: middle;\n",
       "    }\n",
       "\n",
       "    .dataframe tbody tr th {\n",
       "        vertical-align: top;\n",
       "    }\n",
       "\n",
       "    .dataframe thead th {\n",
       "        text-align: right;\n",
       "    }\n",
       "</style>\n",
       "<table border=\"1\" class=\"dataframe\">\n",
       "  <thead>\n",
       "    <tr style=\"text-align: right;\">\n",
       "      <th></th>\n",
       "      <th>word_1</th>\n",
       "      <th>word_2</th>\n",
       "    </tr>\n",
       "  </thead>\n",
       "  <tbody>\n",
       "    <tr>\n",
       "      <th>494</th>\n",
       "      <td>lats</td>\n",
       "      <td>last</td>\n",
       "    </tr>\n",
       "  </tbody>\n",
       "</table>\n",
       "</div>"
      ],
      "text/plain": [
       "    word_1 word_2\n",
       "494   lats   last"
      ]
     },
     "execution_count": 29,
     "metadata": {},
     "output_type": "execute_result"
    }
   ],
   "source": [
    "string_pair_df.loc[string_pair_df.apply(lambda x:is_anagram(x.word_1, x.word_2), axis=1)]"
   ]
  }
 ],
 "metadata": {
  "kernelspec": {
   "display_name": "Python 3",
   "language": "python",
   "name": "python3"
  },
  "language_info": {
   "codemirror_mode": {
    "name": "ipython",
    "version": 3
   },
   "file_extension": ".py",
   "mimetype": "text/x-python",
   "name": "python",
   "nbconvert_exporter": "python",
   "pygments_lexer": "ipython3",
   "version": "3.7.3"
  },
  "toc": {
   "base_numbering": 1,
   "nav_menu": {},
   "number_sections": true,
   "sideBar": true,
   "skip_h1_title": false,
   "title_cell": "Table of Contents",
   "title_sidebar": "Contents",
   "toc_cell": false,
   "toc_position": {},
   "toc_section_display": true,
   "toc_window_display": false
  }
 },
 "nbformat": 4,
 "nbformat_minor": 4
}
